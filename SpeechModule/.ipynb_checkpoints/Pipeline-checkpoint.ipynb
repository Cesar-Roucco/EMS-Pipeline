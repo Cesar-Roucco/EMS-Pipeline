{
 "cells": [
  {
   "cell_type": "code",
   "execution_count": 1,
   "metadata": {
    "scrolled": false
   },
   "outputs": [
    {
     "name": "stdout",
     "output_type": "stream",
     "text": [
      "On the other is a means of livelihood is there than nothing to oppose to the maximum Prima be very day in DayZ La Safari?\n",
      " These gentlemen desire to live in Dundee to live by philosophy to philosophy. They are assigned with their wives and children the rule I sing the song of him whose bread I eat good the making of money Bible.\n",
      " Is the characteristic of the sophists nothing is to be had for gold but mediocrity it is impossible that an age which for 20 years is a Florida to Hagel that intellectual caliban as the greatest of the philosophers could make him who has looked on at that desirous of it's a probation but rather truth will always be a power cord on the homonym.m.\n"
     ]
    }
   ],
   "source": [
    "# Pipeline of CognitiveEMS\n",
    "import sys\n",
    "import os\n",
    "from six.moves import queue\n",
    "\n",
    "import StoppableThread\n",
    "import SpeechModule\n",
    "\n",
    "# Global variables\n",
    "AccumulatedText = []\n",
    "\n",
    "# Interconnecting queues\n",
    "SpeechOutQueue = queue.Queue()\n",
    "\n",
    "if __name__ == '__main__':\n",
    "\n",
    "    def SpeechDisplay():\n",
    "        global AccumulatedText\n",
    "        while(True):\n",
    "            result = SpeechOutQueue.get()\n",
    "            #print(result)\n",
    "            \n",
    "            num_chars_printed = 0\n",
    "            top_alternative = result.alternatives[0]\n",
    "            transcript = top_alternative.transcript\n",
    "            overwrite_chars = ' ' * (num_chars_printed - len(transcript))\n",
    "\n",
    "            if not result.is_final:\n",
    "                sys.stdout.write(transcript + overwrite_chars + '\\r')\n",
    "                sys.stdout.flush()\n",
    "                num_chars_printed = len(transcript)\n",
    "            else:\n",
    "                print(transcript + overwrite_chars)\n",
    "                AccumulatedText.append((transcript, top_alternative.confidence))\n",
    "                num_chars_printed = 0\n",
    "            \n",
    "\n",
    "    # Speech Module\n",
    "    SpeechThread = StoppableThread.StoppableThread(target = SpeechModule.GoogleSpeechIndefiniteStream, args=(SpeechOutQueue,))\n",
    "    SpeechThread.start()\n",
    "\n",
    "    DisplayThread = StoppableThread.StoppableThread(target = SpeechDisplay)\n",
    "    DisplayThread.start()\n",
    "\n"
   ]
  },
  {
   "cell_type": "code",
   "execution_count": 5,
   "metadata": {},
   "outputs": [
    {
     "name": "stdout",
     "output_type": "stream",
     "text": [
      "('On the other is a means of livelihood is there than nothing to oppose to the maximum Prima be very day in DayZ La Safari?', 0.875119149684906)\n",
      "\n",
      "\n",
      "(' These gentlemen desire to live in Dundee to live by philosophy to philosophy. They are assigned with their wives and children the rule I sing the song of him whose bread I eat good the making of money Bible.', 0.9563261866569519)\n",
      "\n",
      "\n",
      "(\" Is the characteristic of the sophists nothing is to be had for gold but mediocrity it is impossible that an age which for 20 years is a Florida to Hagel that intellectual caliban as the greatest of the philosophers could make him who has looked on at that desirous of it's a probation but rather truth will always be a power cord on the homonym.\", 0.9425719380378723)\n",
      "\n",
      "\n"
     ]
    }
   ],
   "source": [
    "for item in AccumulatedText:\n",
    "    print(item)\n",
    "    print(\"\\n\")"
   ]
  },
  {
   "cell_type": "code",
   "execution_count": null,
   "metadata": {},
   "outputs": [],
   "source": []
  },
  {
   "cell_type": "code",
   "execution_count": null,
   "metadata": {},
   "outputs": [],
   "source": []
  }
 ],
 "metadata": {
  "kernelspec": {
   "display_name": "Python 3",
   "language": "python",
   "name": "python3"
  },
  "language_info": {
   "codemirror_mode": {
    "name": "ipython",
    "version": 3
   },
   "file_extension": ".py",
   "mimetype": "text/x-python",
   "name": "python",
   "nbconvert_exporter": "python",
   "pygments_lexer": "ipython3",
   "version": "3.6.7"
  }
 },
 "nbformat": 4,
 "nbformat_minor": 2
}
