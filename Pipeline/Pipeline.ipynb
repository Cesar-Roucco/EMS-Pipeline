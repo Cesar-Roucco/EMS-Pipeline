{
 "cells": [
  {
   "cell_type": "code",
   "execution_count": null,
   "metadata": {
    "scrolled": false
   },
   "outputs": [],
   "source": [
    "# Pipeline of CognitiveEMS\n",
    "import sys\n",
    "import os\n",
    "from six.moves import queue\n",
    "\n",
    "import StoppableThread\n",
    "import SpeechModule\n",
    "\n",
    "# Global variables\n",
    "AccumulatedText = []\n",
    "\n",
    "# Interconnecting queues\n",
    "SpeechOutQueue = queue.Queue()\n",
    "\n",
    "if __name__ == '__main__':\n",
    "\n",
    "    def SpeechDisplay():\n",
    "        global AccumulatedText\n",
    "        while(True):\n",
    "            result = SpeechOutQueue.get()\n",
    "            #print(result)\n",
    "            \n",
    "            num_chars_printed = 0\n",
    "            top_alternative = result.alternatives[0]\n",
    "            transcript = top_alternative.transcript\n",
    "            overwrite_chars = ' ' * (num_chars_printed - len(transcript))\n",
    "\n",
    "            if not result.is_final:\n",
    "                sys.stdout.write(transcript + overwrite_chars + '\\r')\n",
    "                sys.stdout.flush()\n",
    "                num_chars_printed = len(transcript)\n",
    "            else:\n",
    "                print(transcript + overwrite_chars)\n",
    "                AccumulatedText.append((transcript, top_alternative.confidence))\n",
    "                num_chars_printed = 0\n",
    "            \n",
    "\n",
    "    # Speech Module\n",
    "    SpeechThread = StoppableThread.StoppableThread(target = SpeechModule.GoogleSpeechIndefiniteStream, args=(SpeechOutQueue,))\n",
    "    SpeechThread.start()\n",
    "\n",
    "    DisplayThread = StoppableThread.StoppableThread(target = SpeechDisplay)\n",
    "    DisplayThread.start()\n",
    "\n"
   ]
  },
  {
   "cell_type": "code",
   "execution_count": null,
   "metadata": {},
   "outputs": [],
   "source": [
    "for item in AccumulatedText:\n",
    "    print(item)\n",
    "    print(\"\\n\")"
   ]
  },
  {
   "cell_type": "code",
   "execution_count": null,
   "metadata": {},
   "outputs": [],
   "source": []
  },
  {
   "cell_type": "code",
   "execution_count": null,
   "metadata": {},
   "outputs": [],
   "source": []
  }
 ],
 "metadata": {
  "kernelspec": {
   "display_name": "Python 3",
   "language": "python",
   "name": "python3"
  },
  "language_info": {
   "codemirror_mode": {
    "name": "ipython",
    "version": 3
   },
   "file_extension": ".py",
   "mimetype": "text/x-python",
   "name": "python",
   "nbconvert_exporter": "python",
   "pygments_lexer": "ipython3",
   "version": "3.6.7"
  }
 },
 "nbformat": 4,
 "nbformat_minor": 2
}
